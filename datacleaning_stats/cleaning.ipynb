{
 "cells": [
  {
   "cell_type": "markdown",
   "metadata": {},
   "source": [
    "#### cleaning"
   ]
  },
  {
   "cell_type": "code",
   "execution_count": 1,
   "metadata": {},
   "outputs": [],
   "source": [
    "import pybaseball\n",
    "import pandas as pd\n",
    "from pybaseball import statcast\n",
    "import os\n",
    "import numpy as np\n",
    "pybaseball.cache.enable()"
   ]
  },
  {
   "cell_type": "code",
   "execution_count": 2,
   "metadata": {},
   "outputs": [],
   "source": [
    "# data = pybaseball.statcast(start_dt=\"2024-03-01\", end_dt=\"2024-10-01\")\n",
    "# data.to_csv('statcast_pitch_2024.csv')"
   ]
  },
  {
   "cell_type": "markdown",
   "metadata": {},
   "source": [
    "### import, clean, and select cols"
   ]
  },
  {
   "cell_type": "markdown",
   "metadata": {},
   "source": [
    "Used the pybaseball library to create the statcast dataset. It takes a while to load so just exported it to CSV and call from here. Will use more datapoints to create model"
   ]
  },
  {
   "cell_type": "code",
   "execution_count": 3,
   "metadata": {},
   "outputs": [],
   "source": [
    "# set working directory\n",
    "os.chdir('C:/Users/dalto/OneDrive/Pictures/Documents/Projects/MLB/pitch_value')\n",
    "\n",
    "# import datasets\n",
    "data = pd.read_csv('./data/datasets/statcast_pitch_2024.csv')\n",
    "count_data = pd.read_csv('./data/datasets/combined_counts.csv')\n",
    "statcast = data.copy()"
   ]
  },
  {
   "cell_type": "markdown",
   "metadata": {},
   "source": [
    "Clean the data to keep only the needed cols. For the scope of this project I only want to examine the value of a pitch irrespective of the prefromance of the batter. The choice of these stats reperesent this aim and create a dataset that is much more managable with only 25 features comapred to the orginal 113. \n",
    "<br> \n",
    "Also applied some basic feature engenering so it would be easier to anayzle swinging and called strikes which are the most vauleable outcomes a pitch can produce from a pure pitching perspecitve"
   ]
  },
  {
   "cell_type": "code",
   "execution_count": 4,
   "metadata": {},
   "outputs": [
    {
     "name": "stdout",
     "output_type": "stream",
     "text": [
      "     player_name       pitch_name      description  called_strike  \\\n",
      "0  Brieske, Beau         Changeup    hit_into_play          False   \n",
      "1  Brieske, Beau         Changeup  swinging_strike          False   \n",
      "2  Brieske, Beau         Changeup             ball          False   \n",
      "3  Brieske, Beau  4-Seam Fastball             foul          False   \n",
      "4  Brieske, Beau         Changeup     blocked_ball          False   \n",
      "\n",
      "   swinging_strike  estimated_woba  pitch_velo_adj  horz_position_of_pitch  \\\n",
      "0            False           0.498            87.6                    0.21   \n",
      "1             True             NaN            86.5                   -1.30   \n",
      "2            False             NaN            89.1                    0.37   \n",
      "3            False             NaN            96.5                   -0.40   \n",
      "4            False             NaN            87.9                   -0.05   \n",
      "\n",
      "   vertical_pos_of_pitch  horz_release_pos  ...         ax         ay  \\\n",
      "0                   2.19             -1.65  ... -16.994117  27.285768   \n",
      "1                   2.39             -1.69  ... -13.566149  26.705439   \n",
      "2                   1.05             -1.89  ... -16.962612  27.501921   \n",
      "3                   2.83             -1.51  ...  -6.337869  36.223288   \n",
      "4                   0.63             -1.77  ... -15.817446  28.025676   \n",
      "\n",
      "          az  release_spin  release_position  spin_axis  launch_speed  \\\n",
      "0 -26.443587        2110.0             54.40      231.0          88.9   \n",
      "1 -25.490164        2128.0             54.55      227.0           NaN   \n",
      "2 -26.094992        2044.0             54.49      230.0           NaN   \n",
      "3  -9.064415        2563.0             54.48      204.0           NaN   \n",
      "4 -23.641528        2154.0             54.38      230.0           NaN   \n",
      "\n",
      "   launch_angle  sz_top  sz_bot  \n",
      "0           9.0    3.55    1.68  \n",
      "1           NaN    3.55    1.68  \n",
      "2           NaN    3.52    1.68  \n",
      "3           NaN    3.55    1.68  \n",
      "4           NaN    3.49    1.68  \n",
      "\n",
      "[5 rows x 25 columns]\n"
     ]
    }
   ],
   "source": [
    "# keep only the cols relevent to the actual pitch itself\n",
    "cols_to_keep = ['player_name', 'pitch_name', 'effective_speed', 'release_pos_x', 'release_pos_z',\n",
    "                 'description', 'type', 'pfx_x', 'pfx_z', 'plate_x', 'plate_z', 'vx0', 'vy0', 'ax', 'ay', 'az', \n",
    "                 'launch_speed', 'launch_angle', 'sz_top', 'sz_bot', 'release_spin_rate', 'release_pos_y', 'spin_axis', \n",
    "                 'estimated_woba_using_speedangle', 'arm_angle']\n",
    "statcast = statcast[cols_to_keep]\n",
    "\n",
    "# rename for easier use\n",
    "statcast.rename(columns={'effective_speed': 'pitch_velo_adj', 'release_pos_x': 'horz_release_pos', 'release_pos_z': 'vertical_release_pos', 'pfx_x': \n",
    "                         'horz_movement', 'pfx_z': 'vertical_movement', 'plate_x': 'horz_position_of_pitch', 'plate_z': 'vertical_pos_of_pitch', 'vx0': 'velo_in_horz', \n",
    "                         'vy0': 'velo_in_vert', 'release_spin_rate': 'release_spin', 'release_pos_y': 'release_position', 'estimated_woba_using_speedangle': 'estimated_woba'}, inplace=True)\n",
    "\n",
    "def clean_and_reorder(df):\n",
    "    # Create boolean column for called strike\n",
    "    df['called_strike'] = df['description'] == 'called_strike'\n",
    "    \n",
    "    # Create boolean column for swinging strike\n",
    "    df['swinging_strike'] = df['description'] == 'swinging_strike'\n",
    "\n",
    "    # Define the desired column order\n",
    "    columns = ['player_name','pitch_name', 'description', 'called_strike', 'swinging_strike', 'estimated_woba', 'pitch_velo_adj', \n",
    "               'horz_position_of_pitch', 'vertical_pos_of_pitch','horz_release_pos', 'vertical_release_pos', 'horz_movement', 'vertical_movement', \n",
    "               'velo_in_horz', 'velo_in_vert', 'ax', 'ay', 'az', 'release_spin', 'release_position', 'spin_axis', 'launch_speed', 'launch_angle', 'sz_top', 'sz_bot']\n",
    "\n",
    "    # Ensure all columns exist in the DataFrame\n",
    "    for col in columns:\n",
    "        if col not in df.columns:\n",
    "            df[col] = None  # Or some other appropriate default value\n",
    "\n",
    "    # Reorder the columns\n",
    "    df = df[columns]\n",
    "    \n",
    "    return df\n",
    "\n",
    "statcast = clean_and_reorder(statcast)\n",
    "\n",
    "print(statcast.head())"
   ]
  },
  {
   "cell_type": "markdown",
   "metadata": {},
   "source": [
    "### binary strike or ball"
   ]
  },
  {
   "cell_type": "markdown",
   "metadata": {},
   "source": [
    "add a new col that is just binary of if the pitch is in or out of the strike zone"
   ]
  },
  {
   "cell_type": "code",
   "execution_count": 5,
   "metadata": {},
   "outputs": [
    {
     "name": "stdout",
     "output_type": "stream",
     "text": [
      "   horz_position_of_pitch  vertical_pos_of_pitch  sz_top  sz_bot  \\\n",
      "0                    0.21                   2.19    3.55    1.68   \n",
      "1                   -1.30                   2.39    3.55    1.68   \n",
      "2                    0.37                   1.05    3.52    1.68   \n",
      "3                   -0.40                   2.83    3.55    1.68   \n",
      "4                   -0.05                   0.63    3.49    1.68   \n",
      "\n",
      "   in_strike_zone  \n",
      "0            True  \n",
      "1           False  \n",
      "2           False  \n",
      "3            True  \n",
      "4           False  \n"
     ]
    }
   ],
   "source": [
    "def is_strike(row):\n",
    "    # Horizontal check\n",
    "    horizontal_check = -0.70833 <= row['horz_position_of_pitch'] <= 0.70833\n",
    "    \n",
    "    # Vertical check\n",
    "    vertical_check = row['sz_bot'] <= row['vertical_pos_of_pitch'] <= row['sz_top']\n",
    "    \n",
    "    return horizontal_check and vertical_check\n",
    "\n",
    "statcast['in_strike_zone'] = statcast.apply(is_strike, axis=1)\n",
    "\n",
    "print(statcast[['horz_position_of_pitch', 'vertical_pos_of_pitch', 'sz_top', 'sz_bot', 'in_strike_zone']].head())"
   ]
  },
  {
   "cell_type": "markdown",
   "metadata": {},
   "source": [
    "### export to csv"
   ]
  },
  {
   "cell_type": "markdown",
   "metadata": {},
   "source": []
  },
  {
   "cell_type": "code",
   "execution_count": 6,
   "metadata": {},
   "outputs": [],
   "source": [
    "statcast.to_csv('./data/datasets/cleaned_pitch_unfilled.csv', index=False)"
   ]
  }
 ],
 "metadata": {
  "kernelspec": {
   "display_name": "base",
   "language": "python",
   "name": "python3"
  },
  "language_info": {
   "codemirror_mode": {
    "name": "ipython",
    "version": 3
   },
   "file_extension": ".py",
   "mimetype": "text/x-python",
   "name": "python",
   "nbconvert_exporter": "python",
   "pygments_lexer": "ipython3",
   "version": "3.12.7"
  }
 },
 "nbformat": 4,
 "nbformat_minor": 2
}
