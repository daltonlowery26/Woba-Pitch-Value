{
 "cells": [
  {
   "cell_type": "code",
   "execution_count": 2,
   "metadata": {},
   "outputs": [],
   "source": [
    "import pandas as pd\n",
    "import os"
   ]
  },
  {
   "cell_type": "code",
   "execution_count": 3,
   "metadata": {},
   "outputs": [],
   "source": [
    "# import datasets\n",
    "os.chdir('C:/Users/dalto/OneDrive/Pictures/Documents/Projects/MLB/pitch_value')\n",
    "\n",
    "# import datasets\n",
    "statcast = pd.read_csv('data/datasets/pitch_level/cleaned_pitch_2024.csv')\n",
    "yearly = pd.read_csv('data/datasets/yearly/yearly_player_average.csv')"
   ]
  },
  {
   "cell_type": "code",
   "execution_count": 4,
   "metadata": {},
   "outputs": [
    {
     "name": "stdout",
     "output_type": "stream",
     "text": [
      "Correlations with estimated_woba:\n",
      "estimated_woba            1.000000\n",
      "launch_speed              0.498783\n",
      "velo_in_vert              0.013728\n",
      "sz_top                    0.006357\n",
      "sz_bot                    0.005126\n",
      "release_position          0.004834\n",
      "spin_axis                 0.002067\n",
      "velo_in_horz              0.001019\n",
      "vertical_release_pos      0.000884\n",
      "horz_release_pos         -0.000750\n",
      "horz_position_of_pitch   -0.001737\n",
      "ax                       -0.004439\n",
      "horz_movement            -0.004817\n",
      "Unnamed: 0               -0.013338\n",
      "pitch_velo_adj           -0.013512\n",
      "vertical_movement        -0.014544\n",
      "ay                       -0.015644\n",
      "az                       -0.017241\n",
      "vertical_pos_of_pitch    -0.022828\n",
      "release_spin             -0.024695\n",
      "launch_angle             -0.075541\n",
      "in_strike_zone           -0.091596\n",
      "swinging_strike          -0.258984\n",
      "called_strike            -0.329350\n",
      "Name: estimated_woba, dtype: float64\n"
     ]
    }
   ],
   "source": [
    "# Calculate the correlation matrix\n",
    "correlation_matrix = statcast.corr(numeric_only=True)\n",
    "\n",
    "# Extract the correlations with 'estimated_woba'\n",
    "woba_correlations = correlation_matrix['estimated_woba'].sort_values(ascending=False)\n",
    "\n",
    "# Print the correlations\n",
    "print(\"Correlations with estimated_woba:\")\n",
    "print(woba_correlations)"
   ]
  },
  {
   "cell_type": "code",
   "execution_count": 5,
   "metadata": {},
   "outputs": [
    {
     "name": "stdout",
     "output_type": "stream",
     "text": [
      "Correlations with WAR:\n",
      "WAR                       1.000000\n",
      "pitch_count               0.754701\n",
      "swinging_strike           0.190744\n",
      "ay                        0.173282\n",
      "pitch_velo_adj            0.169883\n",
      "in_strike_zone            0.165734\n",
      "release_spin              0.136328\n",
      "called_strike             0.055090\n",
      "az                        0.054255\n",
      "horz_position_of_pitch    0.053583\n",
      "horz_movement             0.045291\n",
      "ax                        0.029669\n",
      "horz_release_pos          0.022825\n",
      "velo_in_horz             -0.015341\n",
      "sz_top                   -0.030876\n",
      "launch_angle             -0.035676\n",
      "vertical_release_pos     -0.037686\n",
      "sz_bot                   -0.043148\n",
      "spin_axis                -0.049062\n",
      "vertical_pos_of_pitch    -0.067766\n",
      "vertical_movement        -0.068389\n",
      "launch_speed             -0.102175\n",
      "velo_in_vert             -0.160352\n",
      "release_position         -0.196992\n",
      "estimated_woba           -0.260932\n",
      "Name: WAR, dtype: float64\n"
     ]
    }
   ],
   "source": [
    "# Calculate the correlation matrix\n",
    "correlation_matrix = yearly.corr(numeric_only=True)\n",
    "\n",
    "# Extract the correlations with WAR\n",
    "war_corr = correlation_matrix['WAR'].sort_values(ascending=False)\n",
    "\n",
    "# Print the correlations\n",
    "print(\"Correlations with WAR:\")\n",
    "print(war_corr)"
   ]
  },
  {
   "cell_type": "code",
   "execution_count": 5,
   "metadata": {},
   "outputs": [
    {
     "name": "stdout",
     "output_type": "stream",
     "text": [
      "Correlations with swinging_strike:\n",
      "swinging_strike           1.000000\n",
      "velo_in_vert              0.038218\n",
      "horz_position_of_pitch    0.025585\n",
      "horz_movement             0.023289\n",
      "ax                        0.023022\n",
      "sz_top                    0.022731\n",
      "sz_bot                    0.019692\n",
      "Unnamed: 0                0.013478\n",
      "release_spin              0.005524\n",
      "velo_in_horz              0.000409\n",
      "horz_release_pos         -0.000374\n",
      "vertical_release_pos     -0.003081\n",
      "release_position         -0.008042\n",
      "spin_axis                -0.020140\n",
      "in_strike_zone           -0.024226\n",
      "ay                       -0.027952\n",
      "vertical_movement        -0.031462\n",
      "az                       -0.033254\n",
      "vertical_pos_of_pitch    -0.035176\n",
      "pitch_velo_adj           -0.036811\n",
      "called_strike            -0.155746\n",
      "estimated_woba           -0.258984\n",
      "launch_speed                   NaN\n",
      "launch_angle                   NaN\n",
      "Name: swinging_strike, dtype: float64\n"
     ]
    }
   ],
   "source": [
    "# Convert the 'description' column to boolean: True if 'swinging_strike', False otherwise\n",
    "statcast['swinging_strike'] = statcast['description'] == 'swinging_strike'\n",
    "\n",
    "# Calculate the correlation matrix\n",
    "correlation_matrix = statcast.corr(numeric_only=True)\n",
    "\n",
    "# Extract the correlations with 'swinging_strike'\n",
    "swinging_strike_correlations = correlation_matrix['swinging_strike'].sort_values(ascending=False)\n",
    "\n",
    "# Print the correlations\n",
    "print(\"Correlations with swinging_strike:\")\n",
    "print(swinging_strike_correlations)\n"
   ]
  },
  {
   "cell_type": "code",
   "execution_count": 6,
   "metadata": {},
   "outputs": [
    {
     "name": "stdout",
     "output_type": "stream",
     "text": [
      "Average stats for pitches with woba > 0.325:\n",
      "Unnamed: 0                356995.544169\n",
      "called_strike                  0.000000\n",
      "swinging_strike                0.000000\n",
      "estimated_woba                 0.721791\n",
      "pitch_velo_adj                89.678082\n",
      "horz_position_of_pitch        -0.006678\n",
      "vertical_pos_of_pitch          2.394896\n",
      "horz_release_pos              -0.821429\n",
      "vertical_release_pos           5.761043\n",
      "horz_movement                 -0.126823\n",
      "vertical_movement              0.605536\n",
      "velo_in_horz                   2.338680\n",
      "velo_in_vert                -130.036978\n",
      "ax                            -2.333441\n",
      "ay                            27.078611\n",
      "az                           -24.047585\n",
      "release_spin                2237.320313\n",
      "release_position              54.050629\n",
      "spin_axis                    177.587126\n",
      "launch_speed                  96.387761\n",
      "launch_angle                  15.374541\n",
      "sz_top                         3.409815\n",
      "sz_bot                         1.601350\n",
      "in_strike_zone                 0.736968\n",
      "dtype: float64\n"
     ]
    }
   ],
   "source": [
    "# Filter the DataFrame for pitches with woba above 0.325\n",
    "high_woba_pitches = statcast[statcast['estimated_woba'] > 0.325].copy()\n",
    "\n",
    "# Calculate the average of other stats for these pitches\n",
    "average_stats = high_woba_pitches.mean(numeric_only=True)\n",
    "\n",
    "# Display the average stats\n",
    "print(\"Average stats for pitches with woba > 0.325:\")\n",
    "print(average_stats)\n"
   ]
  },
  {
   "cell_type": "code",
   "execution_count": 8,
   "metadata": {},
   "outputs": [
    {
     "name": "stdout",
     "output_type": "stream",
     "text": [
      "Unnamed: 0                376661.925603\n",
      "called_strike                  0.000000\n",
      "swinging_strike                1.000000\n",
      "estimated_woba                -0.103333\n",
      "pitch_velo_adj                88.758540\n",
      "horz_position_of_pitch         0.116353\n",
      "vertical_pos_of_pitch          2.205014\n",
      "horz_release_pos              -0.830087\n",
      "vertical_release_pos           5.754497\n",
      "horz_movement                 -0.040492\n",
      "vertical_movement              0.523916\n",
      "velo_in_horz                   2.449514\n",
      "velo_in_vert                -128.701212\n",
      "ax                            -1.325150\n",
      "ay                            26.684630\n",
      "az                           -25.014318\n",
      "release_spin                2261.120468\n",
      "release_position              54.034004\n",
      "spin_axis                    171.526614\n",
      "launch_speed                        NaN\n",
      "launch_angle                        NaN\n",
      "sz_top                         3.417964\n",
      "sz_bot                         1.607538\n",
      "in_strike_zone                 0.364177\n",
      "dtype: float64\n"
     ]
    }
   ],
   "source": [
    "# Filter the DataFrame for pitches with description 'swinging_strike'\n",
    "swinging_strike_pitches = statcast[statcast['description'] == 'swinging_strike'].copy()\n",
    "\n",
    "# Calculate the average of other stats for these pitches\n",
    "average_stats_swinging_strike = swinging_strike_pitches.mean(numeric_only=True)\n",
    "\n",
    "print(average_stats_swinging_strike)"
   ]
  },
  {
   "cell_type": "code",
   "execution_count": null,
   "metadata": {},
   "outputs": [],
   "source": [
    "# Group by horizontal and vertical position, then calculate the average WOBA, ignoring NaN values\n",
    "average_woba_by_position = statcast.groupby(['horz_position_of_pitch', 'vertical_pos_of_pitch'])['estimated_woba'].mean().reset_index()\n",
    "\n",
    "# Print the first few rows of the result\n",
    "print(average_woba_by_position.head())\n",
    "\n",
    "# Impute NaN values using a simple averaging approach\n",
    "# neighborhood size is increased to .2\n",
    "for index, row in average_woba_by_position.iterrows():\n",
    "    if pd.isna(row['estimated_woba']):\n",
    "        # Define a small neighborhood around the point\n",
    "        neighborhood_size = 0.2  # Adjust as needed\n",
    "\n",
    "        # Filter for points within the neighborhood\n",
    "        nearby_points = average_woba_by_position[\n",
    "            (average_woba_by_position['horz_position_of_pitch'] >= row['horz_position_of_pitch'] - neighborhood_size) &\n",
    "            (average_woba_by_position['horz_position_of_pitch'] <= row['horz_position_of_pitch'] + neighborhood_size) &\n",
    "            (average_woba_by_position['vertical_pos_of_pitch'] >= row['vertical_pos_of_pitch'] - neighborhood_size) &\n",
    "            (average_woba_by_position['vertical_pos_of_pitch'] <= row['vertical_pos_of_pitch'] + neighborhood_size)\n",
    "        ]['estimated_woba']\n",
    "\n",
    "        # Calculate the mean of nearby WOBA values, ignoring NaN values\n",
    "        nearby_woba_mean = nearby_points.mean(skipna=True)\n",
    "\n",
    "        # If there are nearby points with WOBA values, fill the NaN with the mean\n",
    "        if not pd.isna(nearby_woba_mean):\n",
    "            average_woba_by_position.loc[index, 'estimated_woba'] = nearby_woba_mean\n",
    "\n",
    "# After imputation, remove any remaining rows with NaN values\n",
    "average_woba_by_position.dropna(subset=['estimated_woba'], inplace=True)"
   ]
  }
 ],
 "metadata": {
  "kernelspec": {
   "display_name": "base",
   "language": "python",
   "name": "python3"
  },
  "language_info": {
   "codemirror_mode": {
    "name": "ipython",
    "version": 3
   },
   "file_extension": ".py",
   "mimetype": "text/x-python",
   "name": "python",
   "nbconvert_exporter": "python",
   "pygments_lexer": "ipython3",
   "version": "3.12.7"
  }
 },
 "nbformat": 4,
 "nbformat_minor": 2
}
