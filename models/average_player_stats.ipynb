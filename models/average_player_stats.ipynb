{
 "cells": [
  {
   "cell_type": "markdown",
   "metadata": {},
   "source": [
    "#### Average Player Stats"
   ]
  },
  {
   "cell_type": "markdown",
   "metadata": {},
   "source": [
    "First need the find the centriod of each players stats. This is the best way to estimate the average prefromance and stats of a player. Simply adding them together does not make sense. Only thing that will be summed is pitch count"
   ]
  },
  {
   "cell_type": "code",
   "execution_count": 12,
   "metadata": {},
   "outputs": [],
   "source": [
    "# import packages and dataset\n",
    "import pandas as pd\n",
    "import os\n",
    "\n",
    "os.chdir('C:/Users/dalto/OneDrive/Pictures/Documents/Projects/MLB/pitch_value')\n",
    "dataset = pd.read_csv('./data/datasets/cleaned_war_pitch.csv')"
   ]
  },
  {
   "cell_type": "code",
   "execution_count": null,
   "metadata": {},
   "outputs": [],
   "source": [
    "# Add amount of Rows\n",
    "dataset['pitch_count'] = dataset.groupby('Name')['Name'].transform('count')\n",
    "dataset['pitch_count'] = dataset['pitch_count'].astype(int)\n",
    "\n",
    "# convert bool cols to int\n",
    "bool_columns = dataset.select_dtypes(include=['bool']).columns\n",
    "dataset[bool_columns] = dataset[bool_columns].astype(int)\n",
    "\n",
    "# only select bool and number cols, take mean\n",
    "numeric_columns = dataset.select_dtypes(include=['number', 'bool']).columns\n",
    "player_mean = dataset.groupby('Name')[numeric_columns].mean()\n",
    "\n",
    "# drops nas of war and unamed cols\n",
    "player_mean = player_mean.dropna(subset=['WAR'])\n",
    "player_mean = player_mean.drop(columns=['Unnamed: 0.1', 'Unnamed: 0'])\n"
   ]
  },
  {
   "cell_type": "code",
   "execution_count": 16,
   "metadata": {},
   "outputs": [],
   "source": [
    "player_mean.to_csv('./data/datasets/yearly_player_average.csv')"
   ]
  }
 ],
 "metadata": {
  "kernelspec": {
   "display_name": "base",
   "language": "python",
   "name": "python3"
  },
  "language_info": {
   "codemirror_mode": {
    "name": "ipython",
    "version": 3
   },
   "file_extension": ".py",
   "mimetype": "text/x-python",
   "name": "python",
   "nbconvert_exporter": "python",
   "pygments_lexer": "ipython3",
   "version": "3.12.7"
  }
 },
 "nbformat": 4,
 "nbformat_minor": 2
}
