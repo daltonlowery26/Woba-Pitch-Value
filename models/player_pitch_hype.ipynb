{
  "cells": [
    {
      "cell_type": "markdown",
      "metadata": {
        "id": "EvCg5z96JTJ6"
      },
      "source": [
        "#### import packages and data"
      ]
    },
    {
      "cell_type": "code",
      "execution_count": 3,
      "metadata": {
        "colab": {
          "base_uri": "https://localhost:8080/"
        },
        "id": "a0RTYUMTJYMu",
        "outputId": "3cc09883-585a-4e9b-b5b5-e06bd4038a92"
      },
      "outputs": [
        {
          "name": "stdout",
          "output_type": "stream",
          "text": [
            "Drive already mounted at /content/drive; to attempt to forcibly remount, call drive.mount(\"/content/drive\", force_remount=True).\n"
          ]
        }
      ],
      "source": [
        "from google.colab import drive\n",
        "drive.mount('/content/drive')"
      ]
    },
    {
      "cell_type": "code",
      "execution_count": 4,
      "metadata": {
        "id": "Pmj94EokJTJ7"
      },
      "outputs": [],
      "source": [
        "import pandas as pd\n",
        "import numpy as np"
      ]
    },
    {
      "cell_type": "code",
      "execution_count": 5,
      "metadata": {
        "id": "OqZvTHc8JTJ8"
      },
      "outputs": [],
      "source": [
        "# import data\n",
        "dataset = pd.read_csv('/content/drive/MyDrive/colab/cleaned_pitch_2024.csv')\n",
        "\n",
        "# Convert boolean columns to int (1/0)\n",
        "dataset['called_strike'] = dataset['called_strike'].astype(int)\n",
        "dataset['swinging_strike'] = dataset['swinging_strike'].astype(int)\n",
        "dataset['in_strike_zone'] = dataset['in_strike_zone'].astype(int)\n",
        "\n",
        "# hyperpara trainset\n",
        "hyper = dataset.sample(30000, random_state=26)"
      ]
    },
    {
      "cell_type": "markdown",
      "metadata": {
        "id": "MVtSnNOmJTJ8"
      },
      "source": [
        "#### feature and target selection"
      ]
    },
    {
      "cell_type": "code",
      "execution_count": null,
      "metadata": {
        "id": "cOdgPToIJTJ8"
      },
      "outputs": [],
      "source": [
        "# features\n",
        "X = hyper.drop(columns=[\"Unnamed: 0\", \"player_name\", \"pitch_name\", \"description\", \"launch_angle\", \"launch_speed\", \"sz_top\", \"sz_bot\", \"estimated_woba\"]).dropna(axis=0)\n",
        "y = hyper['WAR']\n",
        "X = X.drop(columns=['WAR'])"
      ]
    },
    {
      "cell_type": "markdown",
      "metadata": {
        "id": "O66ykvM7JTJ9"
      },
      "source": [
        "#### Train Test Split | ML import"
      ]
    },
    {
      "cell_type": "code",
      "execution_count": null,
      "metadata": {
        "id": "37O1QWbXJTJ9"
      },
      "outputs": [],
      "source": [
        "from sklearn.model_selection import train_test_split, GridSearchCV\n",
        "import xgboost as xgb\n",
        "import bayes_opt\n",
        "from sklearn.metrics import mean_squared_error"
      ]
    },
    {
      "cell_type": "code",
      "execution_count": null,
      "metadata": {
        "colab": {
          "base_uri": "https://localhost:8080/",
          "height": 141
        },
        "id": "CSCCxDeGJTJ9",
        "outputId": "59b3f52b-822d-4428-a37d-719ae056e609"
      },
      "outputs": [],
      "source": [
        "train_x, test_x, train_y, test_y = train_test_split(X, y, test_size=.2, random_state=26)"
      ]
    },
    {
      "cell_type": "markdown",
      "metadata": {
        "id": "xcfvlaTsJTJ-"
      },
      "source": [
        "### HyperParamater Tuning"
      ]
    },
    {
      "cell_type": "code",
      "execution_count": 8,
      "metadata": {
        "id": "WH3_flMPJTJ-"
      },
      "outputs": [],
      "source": [
        "def bay_opt(X, y, parameters, n_iter=10, int_points = 20, random_state=26):\n",
        "    def xgb_evaluate(\n",
        "        learning_rate,\n",
        "        max_depth,\n",
        "        min_child_weight,\n",
        "        subsample,\n",
        "        colsample_bytree,\n",
        "        early_stopping_rounds,\n",
        "        max_leaves\n",
        "    ):\n",
        "        params = {\n",
        "            'learning_rate': learning_rate,\n",
        "            'max_depth': int(max_depth),\n",
        "            'min_child_weight': min_child_weight,\n",
        "            'subsample': subsample,\n",
        "            'max_leaves': int(max_leaves),\n",
        "            'early_stopping_rounds': early_stopping_rounds,\n",
        "            'colsample_bytree': colsample_bytree,\n",
        "            'n_estimators': 50000,\n",
        "            'objective': 'reg:squarederror',\n",
        "            'n_jobs': -1,\n",
        "            'random_state': random_state\n",
        "        }\n",
        "\n",
        "        model = xgb.XGBRegressor(**params)\n",
        "        model.fit(X, y, eval_set=[(test_x, test_y)])\n",
        "        predictions = model.predict(test_x)\n",
        "        return -mean_squared_error(test_y, predictions)\n",
        "\n",
        "    optimizer = bayes_opt.BayesianOptimization(\n",
        "        f=xgb_evaluate,\n",
        "        pbounds=parameters,\n",
        "        random_state=random_state,\n",
        "    )\n",
        "\n",
        "    optimizer.maximize(n_iter=n_iter, init_points=int_points)\n",
        "\n",
        "    return optimizer.max['params']"
      ]
    },
    {
      "cell_type": "markdown",
      "metadata": {
        "id": "-kqGyZZ4JTJ-"
      },
      "source": [
        "Bay Opt for hyperparameter tuning"
      ]
    },
    {
      "cell_type": "code",
      "execution_count": null,
      "metadata": {
        "colab": {
          "base_uri": "https://localhost:8080/"
        },
        "collapsed": true,
        "id": "i0dvd7ywJTJ_",
        "outputId": "e370e7fe-eb96-4fec-d878-6550f13d6cea"
      },
      "outputs": [],
      "source": [
        "params = {\n",
        "    'learning_rate': (0.05, 0.3),\n",
        "    'max_leaves': (1, 40),\n",
        "    'min_child_weight': (1, 10),\n",
        "    'subsample': (0.3, 0.9),\n",
        "    'colsample_bytree': (0.4, 1),\n",
        "    'early_stopping_rounds': (10, 60),\n",
        "    'max_depth': (0, 20)\n",
        "}\n",
        "\n",
        "best_params = bay_opt(train_x, train_y, parameters=params, int_points=200, n_iter=300)\n",
        "print(best_params)"
      ]
    },
    {
      "cell_type": "markdown",
      "metadata": {
        "id": "_5HmFEyEJTJ_"
      },
      "source": [
        "Grid Search to Narrow"
      ]
    },
    {
      "cell_type": "code",
      "execution_count": 11,
      "metadata": {
        "id": "gkI0qfX-JTJ_"
      },
      "outputs": [],
      "source": [
        "def grid_search(X, y, params):\n",
        "\n",
        "    model = xgb.XGBRegressor( n_jobs = -1, n_estimators = 50000)\n",
        "    grid = GridSearchCV(model, params, cv=3, scoring='neg_mean_squared_error', verbose=1)\n",
        "    grid.fit(X, y, eval_set=[(test_x, test_y)])\n",
        "\n",
        "    print(\"Best parameters found:\", grid.best_params_)\n",
        "    print(\"Best score found:\", grid.best_score_)\n",
        "\n",
        "    best_estimator = grid.best_estimator_\n",
        "    feature_importances = best_estimator.feature_importances_\n",
        "\n",
        "    return best_estimator, feature_importances"
      ]
    },
    {
      "cell_type": "markdown",
      "metadata": {},
      "source": [
        "found para from grid search, slowly converged"
      ]
    },
    {
      "cell_type": "code",
      "execution_count": null,
      "metadata": {
        "colab": {
          "base_uri": "https://localhost:8080/"
        },
        "collapsed": true,
        "id": "-1QtkSpqJTJ_",
        "outputId": "03de622e-9bf1-4a28-c51f-26e88a8a1fbb"
      },
      "outputs": [],
      "source": [
        "grid_para = {}\n",
        "grid_search(X=train_x, y = train_y, params=grid_para)"
      ]
    }
  ],
  "metadata": {
    "colab": {
      "provenance": []
    },
    "kernelspec": {
      "display_name": "base",
      "language": "python",
      "name": "python3"
    },
    "language_info": {
      "codemirror_mode": {
        "name": "ipython",
        "version": 3
      },
      "file_extension": ".py",
      "mimetype": "text/x-python",
      "name": "python",
      "nbconvert_exporter": "python",
      "pygments_lexer": "ipython3",
      "version": "3.12.7"
    }
  },
  "nbformat": 4,
  "nbformat_minor": 0
}
