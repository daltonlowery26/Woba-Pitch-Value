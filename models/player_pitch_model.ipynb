{
 "cells": [
  {
   "cell_type": "markdown",
   "metadata": {},
   "source": [
    "### Model"
   ]
  },
  {
   "cell_type": "code",
   "execution_count": 11,
   "metadata": {},
   "outputs": [],
   "source": [
    "import xgboost as xgb\n",
    "from sklearn.model_selection import train_test_split\n",
    "from sklearn.metrics import r2_score, mean_squared_error\n",
    "import os \n",
    "import pandas as pd\n",
    "\n",
    "os.chdir('C:/Users/dalto/OneDrive/Pictures/Documents/Projects/MLB/pitch_value')\n",
    "dataset = pd.read_csv('./data/datasets/yearly/yearly_player_average.csv')"
   ]
  },
  {
   "cell_type": "code",
   "execution_count": null,
   "metadata": {},
   "outputs": [],
   "source": [
    "# features\n",
    "X = dataset.drop(columns=[ \"Name\", \"launch_angle\", \"launch_speed\", \"sz_top\", \"sz_bot\"]).dropna(axis=0)\n",
    "y = X['WAR']\n",
    "X = X.drop(columns=['WAR'])\n",
    "\n",
    "train_x, test_x, train_y, test_y = train_test_split(X, y, test_size=.1, random_state=26)"
   ]
  },
  {
   "cell_type": "code",
   "execution_count": 13,
   "metadata": {},
   "outputs": [
    {
     "name": "stdout",
     "output_type": "stream",
     "text": [
      "                    Name  True_WAR  Predicted_WAR\n",
      "420     mercado, michael -0.742375      -0.116191\n",
      "608        swanson, erik -0.665117      -0.197235\n",
      "665    whitlock, garrett  0.416752       0.617049\n",
      "633          vesia, alex  1.072765       1.164011\n",
      "358           lee, dylan  0.777845       1.182667\n",
      "..                   ...       ...            ...\n",
      "271        hicks, jordan  0.472937       1.400937\n",
      "63      birdsong, hayden  0.100516       0.489009\n",
      "521    rodriguez, carlos -0.024470      -0.304334\n",
      "27   arrighetti, spencer  1.623255       2.767948\n",
      "278        hoffman, jeff  2.042234       1.220502\n",
      "\n",
      "[70 rows x 3 columns]\n",
      "R-squared on Test Set: 0.8360260223579288\n",
      "Mean Squared Error on Test Set: 0.22903751132913297\n",
      "XGBRegressor(base_score=None, booster=None, callbacks=None,\n",
      "             colsample_bylevel=None, colsample_bynode=None, colsample_bytree=1,\n",
      "             device=None, early_stopping_rounds=None, enable_categorical=False,\n",
      "             eval_metric=None, feature_types=None, gamma=None, grow_policy=None,\n",
      "             importance_type=None, interaction_constraints=None,\n",
      "             learning_rate=0.2, max_bin=None, max_cat_threshold=None,\n",
      "             max_cat_to_onehot=None, max_delta_step=None, max_depth=12,\n",
      "             max_leaves=5, min_child_weight=6, missing=nan,\n",
      "             monotone_constraints=None, multi_strategy=None, n_estimators=55,\n",
      "             n_jobs=-1, num_parallel_tree=None, random_state=None, ...)\n",
      "                   Feature  Importance\n",
      "0            called_strike    0.057898\n",
      "1          swinging_strike    0.025764\n",
      "2           estimated_woba    0.139440\n",
      "3           pitch_velo_adj    0.050006\n",
      "4   horz_position_of_pitch    0.022183\n",
      "5    vertical_pos_of_pitch    0.024113\n",
      "6         horz_release_pos    0.010230\n",
      "7     vertical_release_pos    0.029328\n",
      "8            horz_movement    0.000000\n",
      "9        vertical_movement    0.021159\n",
      "10            velo_in_horz    0.041955\n",
      "11            velo_in_vert    0.097052\n",
      "12                      ax    0.034745\n",
      "13                      ay    0.031456\n",
      "14                      az    0.030371\n",
      "15            release_spin    0.026878\n",
      "16        release_position    0.024774\n",
      "17               spin_axis    0.021803\n",
      "18          in_strike_zone    0.047123\n",
      "19             pitch_count    0.263723\n"
     ]
    }
   ],
   "source": [
    "# best para found after grid search\n",
    "opti_para = {'colsample_bytree': 1,\n",
    "             'learning_rate': 0.2, 'max_depth': 12,\n",
    "             'max_leaves': 5, 'min_child_weight': 6,\n",
    "             'subsample': 0.6}\n",
    "# model\n",
    "reg = xgb.XGBRegressor(**opti_para, n_jobs=-1, n_estimators=55)\n",
    "reg.fit(train_x, train_y, eval_set=[(test_x, test_y)], verbose=False)\n",
    "\n",
    "# features / predictions\n",
    "feature_importances = reg.feature_importances_\n",
    "predictions = reg.predict(test_x)\n",
    "\n",
    "\n",
    "# Attach predictions to true values and player names\n",
    "results_df = test_x.copy()\n",
    "results_df['True_WAR'] = test_y.values\n",
    "results_df['Predicted_WAR'] = predictions\n",
    "results_df['Name'] = dataset.loc[test_x.index, 'Name'].values\n",
    "\n",
    "print(results_df[['Name', 'True_WAR', 'Predicted_WAR']])\n",
    "\n",
    "r2 = r2_score(test_y, predictions)\n",
    "print(\"R-squared on Test Set:\", r2)\n",
    "\n",
    "# results and feature importances\n",
    "print(\"Mean Squared Error on Test Set:\", mean_squared_error(test_y, predictions))\n",
    "print(reg)\n",
    "hasattr(train_x, 'columns')\n",
    "feature_names = train_x.columns\n",
    "# Create a dataframe for feature importances\n",
    "feature_importance_df = pd.DataFrame({\n",
    "    'Feature': feature_names,\n",
    "    'Importance': feature_importances\n",
    "})\n",
    "\n",
    "print(feature_importance_df)"
   ]
  },
  {
   "cell_type": "code",
   "execution_count": 15,
   "metadata": {},
   "outputs": [
    {
     "name": "stdout",
     "output_type": "stream",
     "text": [
      "Cross-validation R-squared scores: [0.46843109 0.77406979 0.703822   0.83263767 0.78832306 0.58064328\n",
      " 0.72892975 0.78443528 0.7709707  0.68886623]\n",
      "Mean cross-validation R-squared score: 0.7121128857832468\n",
      "Standard deviation of cross-validation R-squared scores: 0.10508314273953138\n",
      "Cross-validation MSE scores: [0.30810754 0.23084449 0.33210695 0.21347935 0.2461374  0.37026526\n",
      " 0.28868362 0.28347956 0.30141882 0.42273807]\n",
      "Mean cross-validation MSE score: 0.29972610514948317\n",
      "Standard deviation of cross-validation MSE scores: 0.06055589510891567\n"
     ]
    }
   ],
   "source": [
    "from sklearn.model_selection import cross_val_score\n",
    "import numpy as np\n",
    "\n",
    "# Perform cross-validation\n",
    "cv_scores = cross_val_score(reg, X, y, cv=10, scoring='r2')\n",
    "\n",
    "# Print the cross-validation scores\n",
    "print(\"Cross-validation R-squared scores:\", cv_scores)\n",
    "print(\"Mean cross-validation R-squared score:\", np.mean(cv_scores))\n",
    "print(\"Standard deviation of cross-validation R-squared scores:\", np.std(cv_scores))\n",
    "\n",
    "cv_mse_scores = cross_val_score(reg, X, y, cv=10, scoring='neg_mean_squared_error')\n",
    "cv_mse_scores = -cv_mse_scores  # Convert back to positive MSE\n",
    "\n",
    "# Print the cross-validation scores\n",
    "print(\"Cross-validation MSE scores:\", cv_mse_scores)\n",
    "print(\"Mean cross-validation MSE score:\", np.mean(cv_mse_scores))\n",
    "print(\"Standard deviation of cross-validation MSE scores:\", np.std(cv_mse_scores))"
   ]
  }
 ],
 "metadata": {
  "kernelspec": {
   "display_name": "base",
   "language": "python",
   "name": "python3"
  },
  "language_info": {
   "codemirror_mode": {
    "name": "ipython",
    "version": 3
   },
   "file_extension": ".py",
   "mimetype": "text/x-python",
   "name": "python",
   "nbconvert_exporter": "python",
   "pygments_lexer": "ipython3",
   "version": "3.12.7"
  }
 },
 "nbformat": 4,
 "nbformat_minor": 2
}
