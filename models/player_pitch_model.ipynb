{
 "cells": [
  {
   "cell_type": "markdown",
   "metadata": {},
   "source": [
    "### Model"
   ]
  },
  {
   "cell_type": "code",
   "execution_count": 2,
   "metadata": {},
   "outputs": [],
   "source": [
    "import xgboost as xgb\n",
    "from sklearn.model_selection import train_test_split\n",
    "from sklearn.metrics import r2_score, mean_squared_error\n",
    "import os \n",
    "import pandas as pd\n",
    "\n",
    "os.chdir('C:/Users/dalto/OneDrive/Pictures/Documents/Projects/MLB/pitch_value')\n",
    "dataset = pd.read_csv('./data/datasets/yearly/yearly_player_average.csv')"
   ]
  },
  {
   "cell_type": "code",
   "execution_count": 3,
   "metadata": {},
   "outputs": [],
   "source": [
    "# features\n",
    "X = dataset.drop(columns=[ \"Name\", \"launch_angle\", \"launch_speed\", \"sz_top\", \"sz_bot\"]).dropna(axis=0)\n",
    "y = X['WAR']\n",
    "X = X.drop(columns=['WAR'])\n",
    "\n",
    "train_x, test_x, train_y, test_y = train_test_split(X, y, test_size=.1, random_state=26)"
   ]
  },
  {
   "cell_type": "code",
   "execution_count": 30,
   "metadata": {},
   "outputs": [
    {
     "name": "stdout",
     "output_type": "stream",
     "text": [
      "                  Name  True_WAR  Predicted_WAR\n",
      "681   toussaint, touki -0.146697       0.051244\n",
      "441    mcarthur, james  0.102310       0.243448\n",
      "248     gordon, tanner -0.243583      -0.167279\n",
      "502     nittoli, vinny  0.078904       0.173153\n",
      "69     blackburn, paul  0.449186      -0.121409\n",
      "..                 ...       ...            ...\n",
      "94       brown, hunter  3.128726       2.361960\n",
      "757  yastrzemski, mike -0.045487      -0.068280\n",
      "595  sandoval, patrick  1.246824       0.902513\n",
      "417       maeda, kenta -0.048807       1.381054\n",
      "167        darvish, yu  1.071558       0.883550\n",
      "\n",
      "[77 rows x 3 columns]\n",
      "R-squared on Test Set: 0.8325445274735737\n",
      "Mean Squared Error on Test Set: 0.23080979364374749\n",
      "XGBRegressor(base_score=None, booster=None, callbacks=None,\n",
      "             colsample_bylevel=None, colsample_bynode=None, colsample_bytree=1,\n",
      "             device=None, early_stopping_rounds=None, enable_categorical=False,\n",
      "             eval_metric=None, feature_types=None, gamma=None, grow_policy=None,\n",
      "             importance_type=None, interaction_constraints=None,\n",
      "             learning_rate=0.2, max_bin=None, max_cat_threshold=None,\n",
      "             max_cat_to_onehot=None, max_delta_step=None, max_depth=12,\n",
      "             max_leaves=5, min_child_weight=6, missing=nan,\n",
      "             monotone_constraints=None, multi_strategy=None, n_estimators=55,\n",
      "             n_jobs=-1, num_parallel_tree=None, random_state=None, ...)\n",
      "                   Feature  Importance\n",
      "0            called_strike    0.051943\n",
      "1          swinging_strike    0.094343\n",
      "2           estimated_woba    0.140152\n",
      "3           pitch_velo_adj    0.083721\n",
      "4   horz_position_of_pitch    0.018313\n",
      "5    vertical_pos_of_pitch    0.021964\n",
      "6         horz_release_pos    0.015791\n",
      "7     vertical_release_pos    0.020998\n",
      "8            horz_movement    0.027391\n",
      "9        vertical_movement    0.040982\n",
      "10            velo_in_horz    0.018400\n",
      "11            velo_in_vert    0.028375\n",
      "12                      ax    0.029416\n",
      "13                      ay    0.032077\n",
      "14                      az    0.016808\n",
      "15            release_spin    0.021024\n",
      "16        release_position    0.020923\n",
      "17               spin_axis    0.022221\n",
      "18          in_strike_zone    0.027454\n",
      "19             pitch_count    0.267704\n"
     ]
    }
   ],
   "source": [
    "# best para found after grid search\n",
    "opti_para = {'colsample_bytree': 1,\n",
    "             'learning_rate': 0.2, 'max_depth': 12,\n",
    "             'max_leaves': 5, 'min_child_weight': 6,\n",
    "             'subsample': 0.6}\n",
    "# model\n",
    "reg = xgb.XGBRegressor(**opti_para, n_jobs=-1, n_estimators=55)\n",
    "reg.fit(train_x, train_y, eval_set=[(test_x, test_y)], verbose=False)\n",
    "\n",
    "# features / predictions\n",
    "feature_importances = reg.feature_importances_\n",
    "predictions = reg.predict(test_x)\n",
    "\n",
    "\n",
    "# Attach predictions to true values and player names\n",
    "results_df = test_x.copy()\n",
    "results_df['True_WAR'] = test_y.values\n",
    "results_df['Predicted_WAR'] = predictions\n",
    "results_df['Name'] = dataset.loc[test_x.index, 'Name'].values\n",
    "\n",
    "print(results_df[['Name', 'True_WAR', 'Predicted_WAR']])\n",
    "\n",
    "r2 = r2_score(test_y, predictions)\n",
    "print(\"R-squared on Test Set:\", r2)\n",
    "\n",
    "# results and feature importances\n",
    "print(\"Mean Squared Error on Test Set:\", mean_squared_error(test_y, predictions))\n",
    "print(reg)\n",
    "hasattr(train_x, 'columns')\n",
    "feature_names = train_x.columns\n",
    "# Create a dataframe for feature importances\n",
    "feature_importance_df = pd.DataFrame({\n",
    "    'Feature': feature_names,\n",
    "    'Importance': feature_importances\n",
    "})\n",
    "\n",
    "print(feature_importance_df)"
   ]
  },
  {
   "cell_type": "code",
   "execution_count": 33,
   "metadata": {},
   "outputs": [
    {
     "name": "stdout",
     "output_type": "stream",
     "text": [
      "Cross-validation R-squared scores: [0.07959972 0.65794828 0.79461273 0.73921682 0.59843064 0.84942697\n",
      " 0.66324266 0.69249295 0.8543054  0.6253489  0.62576183 0.73885656\n",
      " 0.78503122 0.81109192 0.80698846 0.63481022 0.77182449 0.70567669]\n",
      "Mean cross-validation R-squared score: 0.6908148034659234\n",
      "Standard deviation of cross-validation R-squared scores: 0.16775494709175903\n",
      "Cross-validation MSE scores: [0.28257146 0.24566368 0.28311804 0.26569828 0.32090205]\n",
      "Mean cross-validation MSE score: 0.27959070275404996\n",
      "Standard deviation of cross-validation MSE scores: 0.024787081593460755\n"
     ]
    }
   ],
   "source": [
    "from sklearn.model_selection import cross_val_score\n",
    "import numpy as np\n",
    "\n",
    "# Perform cross-validation\n",
    "cv_scores = cross_val_score(reg, X, y, cv=18, scoring='r2')\n",
    "\n",
    "# Print the cross-validation scores\n",
    "print(\"Cross-validation R-squared scores:\", cv_scores)\n",
    "print(\"Mean cross-validation R-squared score:\", np.mean(cv_scores))\n",
    "print(\"Standard deviation of cross-validation R-squared scores:\", np.std(cv_scores))\n",
    "\n",
    "cv_mse_scores = cross_val_score(reg, X, y, cv=5, scoring='neg_mean_squared_error')\n",
    "cv_mse_scores = -cv_mse_scores  # Convert back to positive MSE\n",
    "\n",
    "# Print the cross-validation scores\n",
    "print(\"Cross-validation MSE scores:\", cv_mse_scores)\n",
    "print(\"Mean cross-validation MSE score:\", np.mean(cv_mse_scores))\n",
    "print(\"Standard deviation of cross-validation MSE scores:\", np.std(cv_mse_scores))"
   ]
  }
 ],
 "metadata": {
  "kernelspec": {
   "display_name": "base",
   "language": "python",
   "name": "python3"
  },
  "language_info": {
   "codemirror_mode": {
    "name": "ipython",
    "version": 3
   },
   "file_extension": ".py",
   "mimetype": "text/x-python",
   "name": "python",
   "nbconvert_exporter": "python",
   "pygments_lexer": "ipython3",
   "version": "3.12.7"
  }
 },
 "nbformat": 4,
 "nbformat_minor": 2
}
