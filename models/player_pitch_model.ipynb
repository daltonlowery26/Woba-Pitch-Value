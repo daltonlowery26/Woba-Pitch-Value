{
 "cells": [
  {
   "cell_type": "markdown",
   "metadata": {},
   "source": [
    "### Model"
   ]
  },
  {
   "cell_type": "code",
   "execution_count": 1,
   "metadata": {},
   "outputs": [],
   "source": [
    "import xgboost as xgb\n",
    "from sklearn.model_selection import train_test_split\n",
    "from sklearn.metrics import r2_score, mean_squared_error\n",
    "import os \n",
    "import pandas as pd\n",
    "\n",
    "os.chdir('C:/Users/dalto/OneDrive/Pictures/Documents/Projects/MLB/pitch_value')\n",
    "dataset = pd.read_csv('./data/datasets/yearly/yearly_player_average.csv')"
   ]
  },
  {
   "cell_type": "code",
   "execution_count": 2,
   "metadata": {},
   "outputs": [],
   "source": [
    "# features\n",
    "X = dataset.drop(columns=[ \"Name\", \"launch_angle\", \"launch_speed\", \"sz_top\", \"sz_bot\"]).dropna(axis=0)\n",
    "y = X['WAR']\n",
    "X = X.drop(columns=['WAR'])\n",
    "\n",
    "train_x, test_x, train_y, test_y = train_test_split(X, y, test_size=.1, random_state=26)"
   ]
  },
  {
   "cell_type": "code",
   "execution_count": 3,
   "metadata": {},
   "outputs": [
    {
     "name": "stdout",
     "output_type": "stream",
     "text": [
      "                  Name  True_WAR  Predicted_WAR\n",
      "681   toussaint, touki -0.146697      -0.040981\n",
      "441    mcarthur, james  0.102310       0.272891\n",
      "248     gordon, tanner -0.243583      -0.111096\n",
      "502     nittoli, vinny  0.078904       0.119820\n",
      "69     blackburn, paul  0.449186      -0.425509\n",
      "..                 ...       ...            ...\n",
      "94       brown, hunter  3.128726       2.673703\n",
      "757  yastrzemski, mike -0.045487      -0.000294\n",
      "595  sandoval, patrick  1.246824       0.950055\n",
      "417       maeda, kenta -0.048807       1.287484\n",
      "167        darvish, yu  1.071558       0.814267\n",
      "\n",
      "[77 rows x 3 columns]\n",
      "R-squared on Test Set: 0.7951659904658019\n",
      "Mean Squared Error on Test Set: 0.2823299517090952\n",
      "XGBRegressor(base_score=None, booster=None, callbacks=None,\n",
      "             colsample_bylevel=None, colsample_bynode=None,\n",
      "             colsample_bytree=0.9, device=None, early_stopping_rounds=3,\n",
      "             enable_categorical=False, eval_metric=None, feature_types=None,\n",
      "             gamma=None, grow_policy=None, importance_type=None,\n",
      "             interaction_constraints=None, learning_rate=0.05, max_bin=None,\n",
      "             max_cat_threshold=None, max_cat_to_onehot=None,\n",
      "             max_delta_step=None, max_depth=40, max_leaves=39,\n",
      "             min_child_weight=6, missing=nan, monotone_constraints=None,\n",
      "             multi_strategy=None, n_estimators=50000, n_jobs=-1,\n",
      "             num_parallel_tree=None, random_state=None, ...)\n",
      "                   Feature  Importance\n",
      "0            called_strike    0.032597\n",
      "1          swinging_strike    0.061784\n",
      "2           estimated_woba    0.141522\n",
      "3           pitch_velo_adj    0.037812\n",
      "4   horz_position_of_pitch    0.016281\n",
      "5    vertical_pos_of_pitch    0.021764\n",
      "6         horz_release_pos    0.020788\n",
      "7     vertical_release_pos    0.017530\n",
      "8            horz_movement    0.012413\n",
      "9        vertical_movement    0.018933\n",
      "10            velo_in_horz    0.024329\n",
      "11            velo_in_vert    0.035558\n",
      "12                      ax    0.012392\n",
      "13                      ay    0.023146\n",
      "14                      az    0.016486\n",
      "15            release_spin    0.018600\n",
      "16        release_position    0.020152\n",
      "17               spin_axis    0.018141\n",
      "18          in_strike_zone    0.038752\n",
      "19             pitch_count    0.411017\n"
     ]
    }
   ],
   "source": [
    "# best para found after grid search\n",
    "opti_para = {'colsample_bytree': 0.9,\n",
    "             'learning_rate': 0.05, 'max_depth': 40,\n",
    "             'max_leaves': 39, 'min_child_weight': 6,\n",
    "             'subsample': 1}\n",
    "# model\n",
    "reg = xgb.XGBRegressor(**opti_para, n_jobs=-1, n_estimators=50000, early_stopping_rounds=3)\n",
    "reg.fit(train_x, train_y, eval_set=[(test_x, test_y)], verbose=False)\n",
    "\n",
    "# features / predictions\n",
    "feature_importances = reg.feature_importances_\n",
    "predictions = reg.predict(test_x)\n",
    "\n",
    "\n",
    "# Attach predictions to true values and player names\n",
    "results_df = test_x.copy()\n",
    "results_df['True_WAR'] = test_y.values\n",
    "results_df['Predicted_WAR'] = predictions\n",
    "results_df['Name'] = dataset.loc[test_x.index, 'Name'].values\n",
    "\n",
    "print(results_df[['Name', 'True_WAR', 'Predicted_WAR']])\n",
    "\n",
    "r2 = r2_score(test_y, predictions)\n",
    "print(\"R-squared on Test Set:\", r2)\n",
    "\n",
    "# results and feature importances\n",
    "print(\"Mean Squared Error on Test Set:\", mean_squared_error(test_y, predictions))\n",
    "print(reg)\n",
    "hasattr(train_x, 'columns')\n",
    "feature_names = train_x.columns\n",
    "# Create a dataframe for feature importances\n",
    "feature_importance_df = pd.DataFrame({\n",
    "    'Feature': feature_names,\n",
    "    'Importance': feature_importances\n",
    "})\n",
    "\n",
    "print(feature_importance_df)"
   ]
  }
 ],
 "metadata": {
  "kernelspec": {
   "display_name": "base",
   "language": "python",
   "name": "python3"
  },
  "language_info": {
   "codemirror_mode": {
    "name": "ipython",
    "version": 3
   },
   "file_extension": ".py",
   "mimetype": "text/x-python",
   "name": "python",
   "nbconvert_exporter": "python",
   "pygments_lexer": "ipython3",
   "version": "3.12.7"
  }
 },
 "nbformat": 4,
 "nbformat_minor": 2
}
