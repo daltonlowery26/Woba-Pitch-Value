{
 "cells": [
  {
   "cell_type": "code",
   "execution_count": null,
   "metadata": {},
   "outputs": [],
   "source": [
    "import pybaseball\n",
    "import pandas as pd\n",
    "from pybaseball import statcast\n",
    "pybaseball.cache.enable()"
   ]
  },
  {
   "cell_type": "code",
   "execution_count": null,
   "metadata": {},
   "outputs": [],
   "source": [
    "# Calculate the correlation matrix\n",
    "correlation_matrix = statcast.corr(numeric_only=True)\n",
    "\n",
    "# Extract the correlations with 'estimated_woba'\n",
    "woba_correlations = correlation_matrix['estimated_woba'].sort_values(ascending=False)\n",
    "\n",
    "# Print the correlations\n",
    "print(\"Correlations with estimated_woba:\")\n",
    "print(woba_correlations)"
   ]
  },
  {
   "cell_type": "code",
   "execution_count": null,
   "metadata": {},
   "outputs": [],
   "source": [
    "# Convert the 'description' column to boolean: True if 'swinging_strike', False otherwise\n",
    "statcast['swinging_strike'] = statcast['description'] == 'swinging_strike'\n",
    "\n",
    "# Calculate the correlation matrix\n",
    "correlation_matrix = statcast.corr(numeric_only=True)\n",
    "\n",
    "# Extract the correlations with 'swinging_strike'\n",
    "swinging_strike_correlations = correlation_matrix['swinging_strike'].sort_values(ascending=False)\n",
    "\n",
    "# Print the correlations\n",
    "print(\"Correlations with swinging_strike:\")\n",
    "print(swinging_strike_correlations)\n"
   ]
  },
  {
   "cell_type": "code",
   "execution_count": null,
   "metadata": {},
   "outputs": [],
   "source": [
    "# Calculate the correlation matrix\n",
    "correlation_matrix = statcast.corr(numeric_only=True)\n",
    "\n",
    "# Extract the correlations with 'swinging_strike'\n",
    "swinging_strike_correlations = correlation_matrix['swinging_strike'].sort_values(ascending=False)\n",
    "\n",
    "# Print the correlations\n",
    "print(\"Correlations with swinging_strike:\")\n",
    "print(swinging_strike_correlations)"
   ]
  },
  {
   "cell_type": "code",
   "execution_count": null,
   "metadata": {},
   "outputs": [],
   "source": [
    "# Filter the DataFrame for pitches with woba above 0.325\n",
    "high_woba_pitches = statcast[statcast['estimated_woba'] > 0.325].copy()\n",
    "\n",
    "# Calculate the average of other stats for these pitches\n",
    "average_stats = high_woba_pitches.mean(numeric_only=True)\n",
    "\n",
    "# Display the average stats\n",
    "print(\"Average stats for pitches with woba > 0.325:\")\n",
    "print(average_stats)\n"
   ]
  },
  {
   "cell_type": "code",
   "execution_count": null,
   "metadata": {},
   "outputs": [],
   "source": [
    "# Filter the DataFrame for pitches with description 'swinging_strike'\n",
    "swinging_strike_pitches = statcast[statcast['description'] == 'swinging_strike'].copy()\n",
    "\n",
    "# Calculate the average of other stats for these pitches\n",
    "average_stats_swinging_strike = swinging_strike_pitches.mean(numeric_only=True)\n"
   ]
  },
  {
   "cell_type": "code",
   "execution_count": null,
   "metadata": {},
   "outputs": [],
   "source": [
    "# Group by horizontal and vertical position, then calculate the average WOBA, ignoring NaN values\n",
    "average_woba_by_position = statcast.groupby(['horz_position_of_pitch', 'vertical_pos_of_pitch'])['estimated_woba'].mean().reset_index()\n",
    "\n",
    "# Print the first few rows of the result\n",
    "print(average_woba_by_position.head())\n",
    "\n",
    "# Impute NaN values using a simple averaging approach\n",
    "# neighborhood size is increased to .2\n",
    "for index, row in average_woba_by_position.iterrows():\n",
    "    if pd.isna(row['estimated_woba']):\n",
    "        # Define a small neighborhood around the point\n",
    "        neighborhood_size = 0.2  # Adjust as needed\n",
    "\n",
    "        # Filter for points within the neighborhood\n",
    "        nearby_points = average_woba_by_position[\n",
    "            (average_woba_by_position['horz_position_of_pitch'] >= row['horz_position_of_pitch'] - neighborhood_size) &\n",
    "            (average_woba_by_position['horz_position_of_pitch'] <= row['horz_position_of_pitch'] + neighborhood_size) &\n",
    "            (average_woba_by_position['vertical_pos_of_pitch'] >= row['vertical_pos_of_pitch'] - neighborhood_size) &\n",
    "            (average_woba_by_position['vertical_pos_of_pitch'] <= row['vertical_pos_of_pitch'] + neighborhood_size)\n",
    "        ]['estimated_woba']\n",
    "\n",
    "        # Calculate the mean of nearby WOBA values, ignoring NaN values\n",
    "        nearby_woba_mean = nearby_points.mean(skipna=True)\n",
    "\n",
    "        # If there are nearby points with WOBA values, fill the NaN with the mean\n",
    "        if not pd.isna(nearby_woba_mean):\n",
    "            average_woba_by_position.loc[index, 'estimated_woba'] = nearby_woba_mean\n",
    "\n",
    "# After imputation, remove any remaining rows with NaN values\n",
    "average_woba_by_position.dropna(subset=['estimated_woba'], inplace=True)"
   ]
  }
 ],
 "metadata": {
  "kernelspec": {
   "display_name": "base",
   "language": "python",
   "name": "python3"
  },
  "language_info": {
   "name": "python",
   "version": "3.12.7"
  }
 },
 "nbformat": 4,
 "nbformat_minor": 2
}
