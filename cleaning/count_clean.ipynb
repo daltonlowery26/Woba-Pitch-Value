{
 "cells": [
  {
   "cell_type": "markdown",
   "metadata": {},
   "source": [
    "### combine the count datasets"
   ]
  },
  {
   "cell_type": "code",
   "execution_count": 2,
   "metadata": {},
   "outputs": [],
   "source": [
    "# import packages and datasets\n",
    "import pandas as pd\n",
    "import os\n",
    "os.chdir('C:/Users/dalto/OneDrive/Pictures/Documents/Projects/MLB/pitch_value')\n"
   ]
  },
  {
   "cell_type": "code",
   "execution_count": 3,
   "metadata": {},
   "outputs": [
    {
     "data": {
      "text/plain": [
       "'count_clean.ipynb'"
      ]
     },
     "execution_count": 3,
     "metadata": {},
     "output_type": "execute_result"
    }
   ],
   "source": [
    "# get the names of the files in the array from\n",
    "folder_path = 'C:/Users/dalto/OneDrive/Pictures/Documents/Projects/MLB/pitch_value/data/count'\n",
    "try:\n",
    "    file_names = []\n",
    "    for entry in os.listdir(folder_path):\n",
    "        full_path = os.path.join(folder_path, entry)  # Use os.path.join!\n",
    "        if os.path.isfile(full_path):\n",
    "            file_names.append(entry)\n",
    "except Exception as e:\n",
    "    print(f\"An error occurred: {e}\")\n",
    "\n",
    "file_names.pop(12)"
   ]
  },
  {
   "cell_type": "code",
   "execution_count": 4,
   "metadata": {},
   "outputs": [],
   "source": [
    "count_data = pd.DataFrame()\n",
    "for item in file_names:\n",
    "    count_path = os.path.join(folder_path, item)\n",
    "    count = pd.read_csv(count_path)\n",
    "    countavg = (count['woba'] * count['pitches']).sum() / count['pitches'].sum()\n",
    "    count['woba'].fillna(countavg)\n",
    "    count_data = pd.concat([count_data, pd.DataFrame([{'file': item, \n",
    "            'woba_avg': countavg, 'pitches': count['pitches'].sum()}])], ignore_index=True)\n"
   ]
  },
  {
   "cell_type": "code",
   "execution_count": null,
   "metadata": {},
   "outputs": [],
   "source": [
    "# clean and finalize the count data\n",
    "count_data['balls'] = count_data['file'].str.split('-').str[0].str.extract('(\\d+)').astype(int)\n",
    "count_data['strikes'] = count_data['file'].str.split('-').str[1].str.extract('(\\d+)').astype(int)\n",
    "\n",
    "# Get the column names in the desired order\n",
    "new_order = ['balls', 'strikes'] + [col for col in count_data.columns if col not in ['balls', 'strikes', 'file']]\n",
    "\n",
    "# Reorder the columns\n",
    "count_data = count_data[new_order]"
   ]
  },
  {
   "cell_type": "markdown",
   "metadata": {},
   "source": [
    "### Strikeout wobas\n",
    "\n",
    "in 0-3 counts 8647 resulted in strikeouts\n",
    "<br>\n",
    "in 1-3 counts 13,513 resulted in strikeouts\n",
    "<br>\n",
    "in 2-3 counts 11,756 result in strikeouts\n",
    "<br>\n",
    "in 3-3 counts 7243 resulted in strikeouts"
   ]
  },
  {
   "cell_type": "code",
   "execution_count": 6,
   "metadata": {},
   "outputs": [],
   "source": [
    "# Create empty columns for 0-3,3 counts\n",
    "empty_data = pd.DataFrame({\n",
    "    'balls': [0, 1, 2, 3], \n",
    "    'strikes': [3, 3, 3, 3],\n",
    "    'woba_avg': [0.0, 0.0, 0.0, 0.0],\n",
    "    'pitches': [8647, 13513, 11756, 7243]\n",
    "})\n",
    "count_data = pd.concat([count_data, empty_data], ignore_index=True)"
   ]
  },
  {
   "cell_type": "markdown",
   "metadata": {},
   "source": [
    "#### Walk Wobas\n",
    "\n",
    "in 3-0 2182 resulted in a walk\n",
    "<br>\n",
    "in 3-1 4009 resulted in a walk\n",
    "<br>\n",
    "in 3-2 8186 resulted in a walk"
   ]
  },
  {
   "cell_type": "code",
   "execution_count": 7,
   "metadata": {},
   "outputs": [],
   "source": [
    "empty_data = pd.DataFrame({\n",
    "    'balls': [4, 4, 4], \n",
    "    'strikes': [0, 1, 2],\n",
    "    'woba_avg': [0.689, 0.689, 0.689],\n",
    "    'pitches': [2182, 4009, 8186]\n",
    "})\n",
    "count_data = pd.concat([count_data, empty_data], ignore_index=True)"
   ]
  },
  {
   "cell_type": "markdown",
   "metadata": {},
   "source": [
    "### Ball and Strike Value"
   ]
  },
  {
   "cell_type": "code",
   "execution_count": 8,
   "metadata": {},
   "outputs": [
    {
     "name": "stdout",
     "output_type": "stream",
     "text": [
      "Effect of adding a strike by count:\n",
      "    balls strike_increase  woba_decrease  total_pitches  weighted_decrease\n",
      "0       0            0->1       0.018733         275061        5152.690647\n",
      "1       0            1->2       0.200199         141636       28355.452345\n",
      "2       0            2->3       0.164576          57417        9449.446629\n",
      "3       1            0->1       0.029369         139534        4098.007785\n",
      "4       1            1->2       0.181823         141632       25751.977620\n",
      "5       1            2->3       0.181400          83656       15175.186235\n",
      "6       2            0->1       0.029663          58968        1749.175626\n",
      "7       2            1->2       0.196345          95739       18797.878411\n",
      "8       2            2->3       0.191335          71086       13601.249934\n",
      "9       3            0->1       0.088370          21790        1925.579991\n",
      "10      3            1->2       0.188569          50866        9591.761595\n",
      "11      3            2->3       0.371669          43156       16039.756020\n",
      "\n",
      "Overall weighted average decrease in wOBA per strike: 0.1268\n"
     ]
    }
   ],
   "source": [
    "# Group counts by ball count\n",
    "strike_effects = []\n",
    "for balls in range(4):\n",
    "    # Get counts with same number of balls\n",
    "    same_balls = count_data[count_data['balls'] == balls]\n",
    "    \n",
    "    # Compare adjacent strike counts (0->1, 1->2, 2->3)\n",
    "    for strikes in range(3):\n",
    "        current = same_balls[same_balls['strikes'] == strikes]\n",
    "        next_strike = same_balls[same_balls['strikes'] == strikes + 1]\n",
    "        \n",
    "        if not current.empty and not next_strike.empty:\n",
    "            decrease = current['woba_avg'].values[0] - next_strike['woba_avg'].values[0]\n",
    "            total_pitches = current['pitches'].values[0] + next_strike['pitches'].values[0]\n",
    "            weighted_decrease = decrease * total_pitches\n",
    "            strike_effects.append({\n",
    "                'balls': balls,\n",
    "                'strike_increase': f\"{strikes}->{strikes+1}\",\n",
    "                'woba_decrease': decrease,\n",
    "                'total_pitches': total_pitches,\n",
    "                'weighted_decrease': weighted_decrease\n",
    "            })\n",
    "\n",
    "strike_effects_df = pd.DataFrame(strike_effects)\n",
    "\n",
    "# Calculate overall weighted average\n",
    "total_weighted_decrease = strike_effects_df['weighted_decrease'].sum()\n",
    "total_affected_pitches = strike_effects_df['total_pitches'].sum()\n",
    "weighted_avg_decrease = total_weighted_decrease / total_affected_pitches\n",
    "\n",
    "print(\"Effect of adding a strike by count:\")\n",
    "print(strike_effects_df)\n",
    "print(f\"\\nOverall weighted average decrease in wOBA per strike: {weighted_avg_decrease:.4f}\")"
   ]
  },
  {
   "cell_type": "code",
   "execution_count": 11,
   "metadata": {},
   "outputs": [
    {
     "name": "stdout",
     "output_type": "stream",
     "text": [
      "Effect of adding a ball by count:\n",
      "    strikes ball_increase  woba_increase  total_pitches  weighted_increase\n",
      "0         0          0->1       0.009084         250240        2273.209748\n",
      "1         0          1->2       0.024751          90604        2242.545659\n",
      "2         0          2->3       0.231265          29396        6798.265522\n",
      "3         0          3->4       0.040392           9019         364.292673\n",
      "4         1          0->1      -0.001552         164355        -255.115439\n",
      "5         1          1->2       0.024457         107898        2638.880337\n",
      "6         1          2->3       0.172558          51362        8862.935539\n",
      "7         1          3->4       0.128762          18962        2441.577199\n",
      "8         2          0->1       0.016824         118913        2000.603109\n",
      "9         2          1->2       0.009935         129473        1286.351523\n",
      "10        2          2->3       0.180334          95243       17175.556700\n",
      "11        2          3->4       0.317331          44099       13993.970924\n",
      "\n",
      "Overall weighted average increase in wOBA per ball: 0.0539\n"
     ]
    }
   ],
   "source": [
    "# Group counts by strike count\n",
    "ball_effects = []\n",
    "for strikes in range(3): \n",
    "    # Get counts with same number of strikes\n",
    "    same_strikes = count_data[count_data['strikes'] == strikes]\n",
    "    \n",
    "    # Compare adjacent ball counts (0->1, 1->2, 2->3, 3->4)\n",
    "    for balls in range(4):  \n",
    "        current = same_strikes[same_strikes['balls'] == balls]\n",
    "        next_ball = same_strikes[same_strikes['balls'] == balls + 1]\n",
    "        \n",
    "        if not current.empty and not next_ball.empty:\n",
    "            increase = next_ball['woba_avg'].values[0] - current['woba_avg'].values[0]\n",
    "            total_pitches = current['pitches'].values[0] + next_ball['pitches'].values[0]\n",
    "            weighted_increase = increase * total_pitches\n",
    "            ball_effects.append({\n",
    "                'strikes': strikes,\n",
    "                'ball_increase': f\"{balls}->{balls+1}\",\n",
    "                'woba_increase': increase,\n",
    "                'total_pitches': total_pitches,\n",
    "                'weighted_increase': weighted_increase\n",
    "            })\n",
    "\n",
    "ball_effects_df = pd.DataFrame(ball_effects)\n",
    "\n",
    "# Calculate overall weighted average\n",
    "total_weighted_increase = ball_effects_df['weighted_increase'].sum()\n",
    "total_affected_pitches = ball_effects_df['total_pitches'].sum()\n",
    "weighted_avg_increase = total_weighted_increase / total_affected_pitches\n",
    "\n",
    "print(\"Effect of adding a ball by count:\")\n",
    "print(ball_effects_df)\n",
    "print(f\"\\nOverall weighted average increase in wOBA per ball: {weighted_avg_increase:.4f}\")"
   ]
  },
  {
   "cell_type": "markdown",
   "metadata": {},
   "source": [
    "manually change the ball effects for 1-1 as it currently doesnt make sense"
   ]
  },
  {
   "cell_type": "code",
   "execution_count": 12,
   "metadata": {},
   "outputs": [
    {
     "name": "stdout",
     "output_type": "stream",
     "text": [
      "Effect of adding a ball by count:\n",
      "    strikes ball_increase  woba_increase  total_pitches  weighted_increase\n",
      "0         0          0->1       0.009084         250240        2273.209748\n",
      "1         0          1->2       0.024751          90604        2242.545659\n",
      "2         0          2->3       0.231265          29396        6798.265522\n",
      "3         0          3->4       0.040392           9019         364.292673\n",
      "4         1          0->1       0.009084         164355        1493.000820\n",
      "5         1          1->2       0.024457         107898        2638.880337\n",
      "6         1          2->3       0.172558          51362        8862.935539\n",
      "7         1          3->4       0.128762          18962        2441.577199\n",
      "8         2          0->1       0.016824         118913        2000.603109\n",
      "9         2          1->2       0.009935         129473        1286.351523\n",
      "10        2          2->3       0.180334          95243       17175.556700\n",
      "11        2          3->4       0.317331          44099       13993.970924\n",
      "\n",
      "Overall weighted average increase in wOBA per ball: 0.0555\n"
     ]
    }
   ],
   "source": [
    "# Locate the row where strikes=1 and ball_increase='0->1'\n",
    "mask = (ball_effects_df['strikes'] == 1) & (ball_effects_df['ball_increase'] == '0->1')\n",
    "\n",
    "# Update the woba_increase value\n",
    "ball_effects_df.loc[mask, 'woba_increase'] = 0.009084\n",
    "\n",
    "# Recalculate the weighted_increase for this row\n",
    "ball_effects_df.loc[mask, 'weighted_increase'] = (ball_effects_df.loc[mask, 'woba_increase'].values[0] * \n",
    "                                                  ball_effects_df.loc[mask, 'total_pitches'].values[0])\n",
    "\n",
    "# Calculate overall weighted average\n",
    "total_weighted_increase = ball_effects_df['weighted_increase'].sum()\n",
    "total_affected_pitches = ball_effects_df['total_pitches'].sum()\n",
    "weighted_avg_increase = total_weighted_increase / total_affected_pitches\n",
    "\n",
    "print(\"Effect of adding a ball by count:\")\n",
    "print(ball_effects_df)\n",
    "print(f\"\\nOverall weighted average increase in wOBA per ball: {weighted_avg_increase:.4f}\")"
   ]
  },
  {
   "cell_type": "markdown",
   "metadata": {},
   "source": [
    "##### woba changes from intial count"
   ]
  },
  {
   "cell_type": "code",
   "execution_count": 10,
   "metadata": {},
   "outputs": [
    {
     "name": "stdout",
     "output_type": "stream",
     "text": [
      "ball  0.009084118238981587\n",
      "stike  0.018732901601053453\n"
     ]
    }
   ],
   "source": [
    "ball_increase = ball_effects_df.loc[0, 'woba_increase']\n",
    "strike_increase = strike_effects_df.loc[0, 'woba_decrease']\n",
    "print(\"ball \", ball_increase)\n",
    "print(\"stike \", strike_increase)"
   ]
  }
 ],
 "metadata": {
  "kernelspec": {
   "display_name": "base",
   "language": "python",
   "name": "python3"
  },
  "language_info": {
   "codemirror_mode": {
    "name": "ipython",
    "version": 3
   },
   "file_extension": ".py",
   "mimetype": "text/x-python",
   "name": "python",
   "nbconvert_exporter": "python",
   "pygments_lexer": "ipython3",
   "version": "3.12.7"
  }
 },
 "nbformat": 4,
 "nbformat_minor": 2
}
