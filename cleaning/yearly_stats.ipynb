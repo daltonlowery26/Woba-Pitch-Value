{
 "cells": [
  {
   "cell_type": "markdown",
   "metadata": {},
   "source": [
    "### Add yearly stats to dataframe "
   ]
  },
  {
   "cell_type": "code",
   "execution_count": 1,
   "metadata": {},
   "outputs": [],
   "source": [
    "# packages and import data\n",
    "import pandas as pd\n",
    "import os\n",
    "import numpy as np\n",
    "os.chdir('C:/Users/dalto/OneDrive/Pictures/Documents/Projects/MLB/pitch_value')\n",
    "\n",
    "# datasets\n",
    "pitch_data = pd.read_csv('data/datasets/cleaned_pitch_2024.csv')\n",
    "yearly = pd.read_csv('data/datasets/2024_yearly_data.csv.csv')"
   ]
  },
  {
   "cell_type": "markdown",
   "metadata": {},
   "source": [
    "### clean and merge"
   ]
  },
  {
   "cell_type": "code",
   "execution_count": null,
   "metadata": {},
   "outputs": [],
   "source": [
    "yearly = yearly[['Name', 'WAR']] # only care about estimating war\n",
    "\n",
    "# rename so cols match\n",
    "pitch_data = pitch_data.rename(columns={'player_name': 'Name'})\n",
    "\n",
    "# recode to lowercase\n",
    "yearly['Name'] = yearly['Name'].str.lower()\n",
    "pitch_data['Name'] = pitch_data['Name'].str.lower()\n",
    "\n",
    "# recode names in yearly col\n",
    "yearly['Name'] = yearly['Name'].str.replace(r'([a-z]+) ([a-z]+)', r'\\2, \\1', regex=True)\n",
    "\n",
    "# merge\n",
    "clean_pitch_yearly = pd.merge(pitch_data, yearly, how='left', on='Name')\n"
   ]
  },
  {
   "cell_type": "markdown",
   "metadata": {},
   "source": [
    "### export"
   ]
  },
  {
   "cell_type": "code",
   "execution_count": 5,
   "metadata": {},
   "outputs": [],
   "source": [
    "clean_pitch_yearly.to_csv('data/datasets/cleaned_war_pitch.csv')"
   ]
  }
 ],
 "metadata": {
  "kernelspec": {
   "display_name": "base",
   "language": "python",
   "name": "python3"
  },
  "language_info": {
   "codemirror_mode": {
    "name": "ipython",
    "version": 3
   },
   "file_extension": ".py",
   "mimetype": "text/x-python",
   "name": "python",
   "nbconvert_exporter": "python",
   "pygments_lexer": "ipython3",
   "version": "3.12.7"
  }
 },
 "nbformat": 4,
 "nbformat_minor": 2
}
