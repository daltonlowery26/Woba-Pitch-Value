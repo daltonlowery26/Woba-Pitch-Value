{
 "cells": [
  {
   "cell_type": "markdown",
   "metadata": {},
   "source": [
    "### Find the value of balls and strikes"
   ]
  },
  {
   "cell_type": "markdown",
   "metadata": {},
   "source": [
    "what is the woba value of a strike or a ball in a count nuetral context. Leauge average woba is .310"
   ]
  },
  {
   "cell_type": "code",
   "execution_count": 1,
   "metadata": {},
   "outputs": [],
   "source": [
    "# packages\n",
    "import pandas as pd\n",
    "import numpy as np\n",
    "import os"
   ]
  },
  {
   "cell_type": "code",
   "execution_count": 2,
   "metadata": {},
   "outputs": [],
   "source": [
    "# import datasets\n",
    "os.chdir('C:/Users/dalto/OneDrive/Pictures/Documents/Projects/MLB/pitch_value')\n",
    "\n",
    "# import datasets\n",
    "data_unfilled = pd.read_csv('data/datasets/cleaned_pitch_unfilled.csv')\n",
    "data_orginal = pd.read_csv('data/datasets/cleaned_pitch_2024.csv')\n",
    "count = pd.read_csv('data/datasets/combined_counts.csv')"
   ]
  },
  {
   "cell_type": "code",
   "execution_count": 3,
   "metadata": {},
   "outputs": [],
   "source": [
    "pa_est = 182449"
   ]
  },
  {
   "cell_type": "markdown",
   "metadata": {},
   "source": [
    "### Average woba per at bat (strike = -0.1093554921952702)\n",
    "The average amount of pitches per plate apperance was 3.88 with negative woba for strike calls "
   ]
  },
  {
   "cell_type": "code",
   "execution_count": 4,
   "metadata": {},
   "outputs": [
    {
     "name": "stdout",
     "output_type": "stream",
     "text": [
      "28674.16952402404\n",
      "avg woba:  0.1571626565452485\n"
     ]
    }
   ],
   "source": [
    "data_1 = data_orginal.copy()\n",
    "\n",
    "# sum of woba\n",
    "woba_sum = sum(data_1['estimated_woba'])\n",
    "print(woba_sum)\n",
    "\n",
    "# average woba \n",
    "avgwoba = woba_sum / pa_est\n",
    "print('avg woba: ', avgwoba)"
   ]
  },
  {
   "cell_type": "markdown",
   "metadata": {},
   "source": [
    "### Average woba per at bat (strike = 0)"
   ]
  },
  {
   "cell_type": "code",
   "execution_count": 5,
   "metadata": {},
   "outputs": [
    {
     "name": "stdout",
     "output_type": "stream",
     "text": [
      "66825.67621914113\n",
      "avg woba:  0.36627044390016456\n"
     ]
    }
   ],
   "source": [
    "data_2 = data_orginal.copy()\n",
    "\n",
    "# neg strike becomes 0\n",
    "data_2.loc[data_2['estimated_woba'] == -0.1093554921952702, 'estimated_woba'] = 0\n",
    "\n",
    "# sum of woba\n",
    "woba_sum = sum(data_2['estimated_woba'])\n",
    "print(woba_sum)\n",
    "\n",
    "# average woba \n",
    "avgwoba = woba_sum / pa_est\n",
    "print('avg woba: ', avgwoba)"
   ]
  },
  {
   "cell_type": "markdown",
   "metadata": {},
   "source": [
    "### Change in woba from 0-0\n",
    "ball  0.009084118238981587\n",
    "strike  0.018732901601053453"
   ]
  },
  {
   "cell_type": "code",
   "execution_count": 6,
   "metadata": {},
   "outputs": [
    {
     "name": "stdout",
     "output_type": "stream",
     "text": [
      "42526.912848\n",
      "avg woba:  0.23308931727770502\n"
     ]
    }
   ],
   "source": [
    "data_3 = data_orginal.copy()\n",
    "\n",
    "# neg strike becomes 0\n",
    "data_3.loc[data_3['estimated_woba'] == -0.1093554921952702, 'estimated_woba'] = -0.018733\n",
    "\n",
    "# neg strike becomes 0\n",
    "data_3.loc[data_3['estimated_woba'] == 0.0767605582103345, 'estimated_woba'] = 0.009084 \n",
    "\n",
    "# sum of woba\n",
    "woba_sum = sum(data_3['estimated_woba'])\n",
    "print(woba_sum)\n",
    "\n",
    "# average woba \n",
    "avgwoba = woba_sum / pa_est\n",
    "print('avg woba: ', avgwoba)"
   ]
  },
  {
   "cell_type": "markdown",
   "metadata": {},
   "source": [
    "### woba strikeout value, woba walk value divided\n",
    "310/3 as it goes to zero, 689/4"
   ]
  },
  {
   "cell_type": "code",
   "execution_count": 9,
   "metadata": {},
   "outputs": [
    {
     "name": "stdout",
     "output_type": "stream",
     "text": [
      "55838.556474000005\n",
      "avg woba:  0.3060502193708927\n"
     ]
    }
   ],
   "source": [
    "data_4 = data_orginal.copy()\n",
    "\n",
    "# neg strike becomes 0\n",
    "data_4.loc[data_4['estimated_woba'] == -0.1093554921952702, 'estimated_woba'] = -0.1033333333333333\n",
    "\n",
    "# neg strike becomes 0\n",
    "data_4.loc[data_4['estimated_woba'] == 0.0767605582103345, 'estimated_woba'] =  0.17225 \n",
    "\n",
    "# sum of woba\n",
    "woba_sum = sum(data_4['estimated_woba'])\n",
    "print(woba_sum)\n",
    "\n",
    "# average woba \n",
    "avgwoba = woba_sum / pa_est\n",
    "print('avg woba: ', avgwoba)"
   ]
  },
  {
   "cell_type": "code",
   "execution_count": 10,
   "metadata": {},
   "outputs": [],
   "source": [
    "data_4.to_csv('data/datasets/cleaned_pitch_2024.csv')"
   ]
  }
 ],
 "metadata": {
  "kernelspec": {
   "display_name": "base",
   "language": "python",
   "name": "python3"
  },
  "language_info": {
   "codemirror_mode": {
    "name": "ipython",
    "version": 3
   },
   "file_extension": ".py",
   "mimetype": "text/x-python",
   "name": "python",
   "nbconvert_exporter": "python",
   "pygments_lexer": "ipython3",
   "version": "3.12.7"
  }
 },
 "nbformat": 4,
 "nbformat_minor": 2
}
